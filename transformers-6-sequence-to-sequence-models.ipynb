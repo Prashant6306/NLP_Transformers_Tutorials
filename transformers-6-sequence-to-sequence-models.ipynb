{
 "cells": [
  {
   "cell_type": "markdown",
   "id": "f77244b7",
   "metadata": {
    "papermill": {
     "duration": 0.002481,
     "end_time": "2023-02-06T10:10:26.180758",
     "exception": false,
     "start_time": "2023-02-06T10:10:26.178277",
     "status": "completed"
    },
    "tags": []
   },
   "source": [
    "* **Encoder-decoder models (also called sequence-to-sequence models) use both parts of the Transformer architecture. At each stage, the attention layers of the encoder can access all the words in the initial sentence, whereas the attention layers of the decoder can only access the words positioned before a given word in the input.**\n",
    "\n",
    "* **The pretraining of these models can be done using the objectives of encoder or decoder models, but usually involves something a bit more complex. For instance, T5 is pretrained by replacing random spans of text (that can contain several words) with a single mask special word, and the objective is then to predict the text that this mask word replaces.**\n",
    "\n",
    "* **Sequence-to-sequence models are best suited for tasks revolving around generating new sentences depending on a given input, such as summarization, translation, or generative question answering.**\n",
    "\n",
    "Representatives of this family of models include:\n",
    "\n",
    "1. BART\n",
    "1. mBART\n",
    "1. Marian\n",
    "1. T5"
   ]
  },
  {
   "cell_type": "code",
   "execution_count": null,
   "id": "4728e7b6",
   "metadata": {
    "papermill": {
     "duration": 0.001188,
     "end_time": "2023-02-06T10:10:26.183701",
     "exception": false,
     "start_time": "2023-02-06T10:10:26.182513",
     "status": "completed"
    },
    "tags": []
   },
   "outputs": [],
   "source": []
  }
 ],
 "metadata": {
  "kernelspec": {
   "display_name": "Python 3",
   "language": "python",
   "name": "python3"
  },
  "language_info": {
   "codemirror_mode": {
    "name": "ipython",
    "version": 3
   },
   "file_extension": ".py",
   "mimetype": "text/x-python",
   "name": "python",
   "nbconvert_exporter": "python",
   "pygments_lexer": "ipython3",
   "version": "3.7.12"
  },
  "papermill": {
   "default_parameters": {},
   "duration": 9.506077,
   "end_time": "2023-02-06T10:10:26.908943",
   "environment_variables": {},
   "exception": null,
   "input_path": "__notebook__.ipynb",
   "output_path": "__notebook__.ipynb",
   "parameters": {},
   "start_time": "2023-02-06T10:10:17.402866",
   "version": "2.3.4"
  }
 },
 "nbformat": 4,
 "nbformat_minor": 5
}
