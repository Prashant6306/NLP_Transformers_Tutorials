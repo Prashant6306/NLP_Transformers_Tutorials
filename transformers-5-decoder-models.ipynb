{
 "cells": [
  {
   "cell_type": "markdown",
   "id": "1c6b7988",
   "metadata": {
    "papermill": {
     "duration": 0.002494,
     "end_time": "2023-02-06T10:10:23.152074",
     "exception": false,
     "start_time": "2023-02-06T10:10:23.149580",
     "status": "completed"
    },
    "tags": []
   },
   "source": [
    "**Decoder models use only the decoder of a Transformer model. At each stage, for a given word the attention layers can only access the words positioned before it in the sentence. These models are often called auto-regressive models.**\n",
    "\n",
    "**The pretraining of decoder models usually revolves around predicting the next word in the sentence.**\n",
    "\n",
    "**These models are best suited for tasks involving text generation.**\n",
    "\n",
    "**Representatives of this family of models include:**\n",
    "\n",
    "1. CTRL\n",
    "GPT\n",
    "GPT-2\n",
    "Transformer XL"
   ]
  },
  {
   "cell_type": "code",
   "execution_count": null,
   "id": "0aaf4a76",
   "metadata": {
    "papermill": {
     "duration": 0.001195,
     "end_time": "2023-02-06T10:10:23.154882",
     "exception": false,
     "start_time": "2023-02-06T10:10:23.153687",
     "status": "completed"
    },
    "tags": []
   },
   "outputs": [],
   "source": []
  }
 ],
 "metadata": {
  "kernelspec": {
   "display_name": "Python 3",
   "language": "python",
   "name": "python3"
  },
  "language_info": {
   "codemirror_mode": {
    "name": "ipython",
    "version": 3
   },
   "file_extension": ".py",
   "mimetype": "text/x-python",
   "name": "python",
   "nbconvert_exporter": "python",
   "pygments_lexer": "ipython3",
   "version": "3.7.12"
  },
  "papermill": {
   "default_parameters": {},
   "duration": 10.550405,
   "end_time": "2023-02-06T10:10:23.786624",
   "environment_variables": {},
   "exception": null,
   "input_path": "__notebook__.ipynb",
   "output_path": "__notebook__.ipynb",
   "parameters": {},
   "start_time": "2023-02-06T10:10:13.236219",
   "version": "2.3.4"
  }
 },
 "nbformat": 4,
 "nbformat_minor": 5
}
