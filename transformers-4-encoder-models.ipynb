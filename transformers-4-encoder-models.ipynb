{
 "cells": [
  {
   "cell_type": "markdown",
   "id": "beaff3e0",
   "metadata": {
    "papermill": {
     "duration": 0.004739,
     "end_time": "2023-02-06T10:09:56.963463",
     "exception": false,
     "start_time": "2023-02-06T10:09:56.958724",
     "status": "completed"
    },
    "tags": []
   },
   "source": [
    "* **Encoder models use only the encoder of a Transformer model. At each stage, the attention layers can access all the words in the initial sentence. These models are often characterized as having “bi-directional” attention, and are often called auto-encoding models.**\n",
    "\n",
    "* **The pretraining of these models usually revolves around somehow corrupting a given sentence (for instance, by masking random words in it) and tasking the model with finding or reconstructing the initial sentence.**\n",
    "\n",
    "* **Encoder models are best suited for tasks requiring an understanding of the full sentence, such as sentence classification, named entity recognition (and more generally word classification), and extractive question answering.**\n",
    "\n",
    "Representatives of this family of models include:\n",
    "\n",
    "1. ALBERT\n",
    "1. BERT\n",
    "1. DistilBERT\n",
    "1. ELECTRA\n",
    "1. RoBERTa"
   ]
  },
  {
   "cell_type": "code",
   "execution_count": null,
   "id": "7726a7e3",
   "metadata": {
    "papermill": {
     "duration": 0.003379,
     "end_time": "2023-02-06T10:09:56.970777",
     "exception": false,
     "start_time": "2023-02-06T10:09:56.967398",
     "status": "completed"
    },
    "tags": []
   },
   "outputs": [],
   "source": []
  },
  {
   "cell_type": "code",
   "execution_count": null,
   "id": "b14c7f63",
   "metadata": {
    "papermill": {
     "duration": 0.003319,
     "end_time": "2023-02-06T10:09:56.977693",
     "exception": false,
     "start_time": "2023-02-06T10:09:56.974374",
     "status": "completed"
    },
    "tags": []
   },
   "outputs": [],
   "source": []
  },
  {
   "cell_type": "code",
   "execution_count": null,
   "id": "49eded44",
   "metadata": {
    "papermill": {
     "duration": 0.003329,
     "end_time": "2023-02-06T10:09:56.984584",
     "exception": false,
     "start_time": "2023-02-06T10:09:56.981255",
     "status": "completed"
    },
    "tags": []
   },
   "outputs": [],
   "source": []
  },
  {
   "cell_type": "code",
   "execution_count": null,
   "id": "aca5485a",
   "metadata": {
    "papermill": {
     "duration": 0.003236,
     "end_time": "2023-02-06T10:09:56.991327",
     "exception": false,
     "start_time": "2023-02-06T10:09:56.988091",
     "status": "completed"
    },
    "tags": []
   },
   "outputs": [],
   "source": []
  },
  {
   "cell_type": "code",
   "execution_count": null,
   "id": "793dd0ea",
   "metadata": {
    "papermill": {
     "duration": 0.003238,
     "end_time": "2023-02-06T10:09:56.998084",
     "exception": false,
     "start_time": "2023-02-06T10:09:56.994846",
     "status": "completed"
    },
    "tags": []
   },
   "outputs": [],
   "source": []
  },
  {
   "cell_type": "code",
   "execution_count": null,
   "id": "52373ad4",
   "metadata": {
    "papermill": {
     "duration": 0.003216,
     "end_time": "2023-02-06T10:09:57.004881",
     "exception": false,
     "start_time": "2023-02-06T10:09:57.001665",
     "status": "completed"
    },
    "tags": []
   },
   "outputs": [],
   "source": []
  },
  {
   "cell_type": "code",
   "execution_count": null,
   "id": "9f4ee7ac",
   "metadata": {
    "papermill": {
     "duration": 0.003278,
     "end_time": "2023-02-06T10:09:57.011654",
     "exception": false,
     "start_time": "2023-02-06T10:09:57.008376",
     "status": "completed"
    },
    "tags": []
   },
   "outputs": [],
   "source": []
  },
  {
   "cell_type": "code",
   "execution_count": null,
   "id": "aa17defd",
   "metadata": {
    "papermill": {
     "duration": 0.003386,
     "end_time": "2023-02-06T10:09:57.018574",
     "exception": false,
     "start_time": "2023-02-06T10:09:57.015188",
     "status": "completed"
    },
    "tags": []
   },
   "outputs": [],
   "source": []
  },
  {
   "cell_type": "code",
   "execution_count": null,
   "id": "1d9b388c",
   "metadata": {
    "papermill": {
     "duration": 0.003259,
     "end_time": "2023-02-06T10:09:57.025423",
     "exception": false,
     "start_time": "2023-02-06T10:09:57.022164",
     "status": "completed"
    },
    "tags": []
   },
   "outputs": [],
   "source": []
  },
  {
   "cell_type": "code",
   "execution_count": null,
   "id": "4dcab257",
   "metadata": {
    "papermill": {
     "duration": 0.003299,
     "end_time": "2023-02-06T10:09:57.032303",
     "exception": false,
     "start_time": "2023-02-06T10:09:57.029004",
     "status": "completed"
    },
    "tags": []
   },
   "outputs": [],
   "source": []
  },
  {
   "cell_type": "code",
   "execution_count": null,
   "id": "590da67f",
   "metadata": {
    "papermill": {
     "duration": 0.003264,
     "end_time": "2023-02-06T10:09:57.039259",
     "exception": false,
     "start_time": "2023-02-06T10:09:57.035995",
     "status": "completed"
    },
    "tags": []
   },
   "outputs": [],
   "source": []
  },
  {
   "cell_type": "code",
   "execution_count": null,
   "id": "d3ced3c6",
   "metadata": {
    "papermill": {
     "duration": 0.003377,
     "end_time": "2023-02-06T10:09:57.046274",
     "exception": false,
     "start_time": "2023-02-06T10:09:57.042897",
     "status": "completed"
    },
    "tags": []
   },
   "outputs": [],
   "source": []
  },
  {
   "cell_type": "code",
   "execution_count": null,
   "id": "a76d8238",
   "metadata": {
    "papermill": {
     "duration": 0.003392,
     "end_time": "2023-02-06T10:09:57.053305",
     "exception": false,
     "start_time": "2023-02-06T10:09:57.049913",
     "status": "completed"
    },
    "tags": []
   },
   "outputs": [],
   "source": []
  },
  {
   "cell_type": "code",
   "execution_count": null,
   "id": "03f57ad2",
   "metadata": {
    "papermill": {
     "duration": 0.003349,
     "end_time": "2023-02-06T10:09:57.060304",
     "exception": false,
     "start_time": "2023-02-06T10:09:57.056955",
     "status": "completed"
    },
    "tags": []
   },
   "outputs": [],
   "source": []
  },
  {
   "cell_type": "code",
   "execution_count": null,
   "id": "da5d5bba",
   "metadata": {
    "papermill": {
     "duration": 0.003295,
     "end_time": "2023-02-06T10:09:57.067229",
     "exception": false,
     "start_time": "2023-02-06T10:09:57.063934",
     "status": "completed"
    },
    "tags": []
   },
   "outputs": [],
   "source": []
  }
 ],
 "metadata": {
  "kernelspec": {
   "display_name": "Python 3",
   "language": "python",
   "name": "python3"
  },
  "language_info": {
   "codemirror_mode": {
    "name": "ipython",
    "version": 3
   },
   "file_extension": ".py",
   "mimetype": "text/x-python",
   "name": "python",
   "nbconvert_exporter": "python",
   "pygments_lexer": "ipython3",
   "version": "3.7.12"
  },
  "papermill": {
   "default_parameters": {},
   "duration": 9.622647,
   "end_time": "2023-02-06T10:09:57.693690",
   "environment_variables": {},
   "exception": null,
   "input_path": "__notebook__.ipynb",
   "output_path": "__notebook__.ipynb",
   "parameters": {},
   "start_time": "2023-02-06T10:09:48.071043",
   "version": "2.3.4"
  }
 },
 "nbformat": 4,
 "nbformat_minor": 5
}
