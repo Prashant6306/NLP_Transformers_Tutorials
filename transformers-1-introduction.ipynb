{
 "cells": [
  {
   "cell_type": "markdown",
   "id": "fe847b36",
   "metadata": {
    "papermill": {
     "duration": 0.003241,
     "end_time": "2023-02-02T06:03:24.319636",
     "exception": false,
     "start_time": "2023-02-02T06:03:24.316395",
     "status": "completed"
    },
    "tags": []
   },
   "source": [
    "# What is NLP?"
   ]
  },
  {
   "cell_type": "markdown",
   "id": "be09b441",
   "metadata": {
    "papermill": {
     "duration": 0.001613,
     "end_time": "2023-02-02T06:03:24.323419",
     "exception": false,
     "start_time": "2023-02-02T06:03:24.321806",
     "status": "completed"
    },
    "tags": []
   },
   "source": [
    "# NLP is a field of linguistics and machine learning focused on understanding everything related to human language. The aim of NLP tasks is not only to understand single words individually, but to be able to understand the context of those words."
   ]
  },
  {
   "cell_type": "markdown",
   "id": "f8d66ce0",
   "metadata": {
    "papermill": {
     "duration": 0.001694,
     "end_time": "2023-02-02T06:03:24.327091",
     "exception": false,
     "start_time": "2023-02-02T06:03:24.325397",
     "status": "completed"
    },
    "tags": []
   },
   "source": [
    "# The following is a list of common NLP tasks, with some examples of each:\n",
    "# \n",
    "* # Classifying whole sentences: Getting the sentiment of a review, detecting if an email is spam, determining if a sentence is grammatically correct or whether two sentences are logically related or not\n",
    "* # Classifying each word in a sentence: Identifying the grammatical components of a sentence (noun, verb, adjective), or the named entities (person, location, organization)\n",
    "* # Generating text content: Completing a prompt with auto-generated text, filling in the blanks in a text with masked words\n",
    "* # Extracting an answer from a text: Given a question and a context, extracting the answer to the question based on the information provided in the context\n",
    "* # Generating a new sentence from an input text: Translating a text into another language, summarizing a text"
   ]
  },
  {
   "cell_type": "markdown",
   "id": "a79f6383",
   "metadata": {
    "papermill": {
     "duration": 0.001611,
     "end_time": "2023-02-02T06:03:24.330649",
     "exception": false,
     "start_time": "2023-02-02T06:03:24.329038",
     "status": "completed"
    },
    "tags": []
   },
   "source": [
    "# The 🤗 Transformers library provides the functionality to create and use those shared models. The Model Hub contains thousands of pretrained models that anyone can download and use. You can also upload your own models to the Hub!"
   ]
  },
  {
   "cell_type": "markdown",
   "id": "e577cb2a",
   "metadata": {
    "papermill": {
     "duration": 0.001819,
     "end_time": "2023-02-02T06:03:24.334352",
     "exception": false,
     "start_time": "2023-02-02T06:03:24.332533",
     "status": "completed"
    },
    "tags": []
   },
   "source": []
  },
  {
   "cell_type": "code",
   "execution_count": null,
   "id": "cf488b1c",
   "metadata": {
    "papermill": {
     "duration": 0.001629,
     "end_time": "2023-02-02T06:03:24.337900",
     "exception": false,
     "start_time": "2023-02-02T06:03:24.336271",
     "status": "completed"
    },
    "tags": []
   },
   "outputs": [],
   "source": []
  }
 ],
 "metadata": {
  "kernelspec": {
   "display_name": "Python 3",
   "language": "python",
   "name": "python3"
  },
  "language_info": {
   "codemirror_mode": {
    "name": "ipython",
    "version": 3
   },
   "file_extension": ".py",
   "mimetype": "text/x-python",
   "name": "python",
   "nbconvert_exporter": "python",
   "pygments_lexer": "ipython3",
   "version": "3.7.12"
  },
  "papermill": {
   "default_parameters": {},
   "duration": 9.345483,
   "end_time": "2023-02-02T06:03:24.963704",
   "environment_variables": {},
   "exception": null,
   "input_path": "__notebook__.ipynb",
   "output_path": "__notebook__.ipynb",
   "parameters": {},
   "start_time": "2023-02-02T06:03:15.618221",
   "version": "2.3.4"
  }
 },
 "nbformat": 4,
 "nbformat_minor": 5
}
